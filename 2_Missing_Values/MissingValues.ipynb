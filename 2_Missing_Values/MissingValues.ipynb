{
 "cells": [
  {
   "cell_type": "markdown",
   "metadata": {},
   "source": [
    "## Missing Values (Eksik Degerler)\n",
    "Gozlemlerde eksiklik olmasi durumunu ifade etmektedir. (NA)\n",
    "\n",
    "Eksik deger problemi nasil cozulur? \n",
    "\n",
    "Yayginca kullanilan 3 method:\n",
    "1. Silme\n",
    "2. Deger Atama Yontemleri (Orn: Mean, Mode ya da Median gibi deger atama yontemleri --> Basit atama yontemleri -Tahmine dayanmaz-)\n",
    "3. Tahmine Dayali Yontemler (Makine ogrenmesi ya da istatiksel bazi yontemler ile tahminlere gore deger atamaya dayanmaktadir.)\n",
    "\n",
    "\"The idea of imputation is both seductive and dangerous\" (R.J.A. Little & D.B. Rubin) \n",
    "\n",
    "Eksik veri literaturu oldukca genis bir liteatur ve ozellikle istatistikcilerin camiasinda cok onemli bir konu.\n",
    "\n",
    "Eksik veri ile calisirken goz onunde bulundurulmasi gereken onemli konulardan birisi: __Eksik verilerin rassalligi__ (Eksikligin rastgele ortaya cikip cikmadiginin bilinmesi gerektigi!!!)\n",
    "\n",
    "__\"Eksik degere sahip gozlemlerin veri setinden direkt cikarilmasi ve rassalliginin incelenmemesi, yapilacak istatiksel cikarimlarin ve modelleme calismalarinin guvenilirligini dusurecektir.\" (Reha Alpar, 2011)__\n",
    "\n",
    "__\"Eksik gozlemlerin veri setinden direkt cikarilabilmesi icin veri setindeki eksikligin bazi durumlarda kismen bazi durumlarda tamamen raslantisal olarak olusmus olmasi gerekmektedir.__\n",
    "\n",
    "__Eger eksiklikler degiskenler ile iliskili olarak ortaya cikan yapisal problemler ile meydana gelmis ise bu durumda yapilacak silme islemleri ciddi yanliliklara sebep olabilecektir.\" (Tabachnick ve Fidell, 1996)__\n"
   ]
  },
  {
   "cell_type": "code",
   "execution_count": null,
   "metadata": {},
   "outputs": [],
   "source": []
  }
 ],
 "metadata": {
  "language_info": {
   "name": "python"
  }
 },
 "nbformat": 4,
 "nbformat_minor": 2
}
